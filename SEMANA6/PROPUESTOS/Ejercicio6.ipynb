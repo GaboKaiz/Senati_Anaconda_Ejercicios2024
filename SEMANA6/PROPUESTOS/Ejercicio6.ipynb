{
 "cells": [
  {
   "cell_type": "code",
   "execution_count": 18,
   "id": "7245f782-90bf-4a8c-8cb7-10efa187e093",
   "metadata": {},
   "outputs": [],
   "source": [
    "#Importamos matplotlib\n",
    "import matplotlib.pyplot as plt\n",
    "import numpy as np\n"
   ]
  },
  {
   "cell_type": "code",
   "execution_count": 20,
   "id": "9c935143-658e-4eaf-a8d1-a87c6f847d0d",
   "metadata": {},
   "outputs": [],
   "source": [
    "#Variables x1 con 1000 números aleatorios\n",
    "x1 = np.random.randn(1000)\n",
    "#Variables x2 con 500 números aleatorios\n",
    "x2 = np.random.randn(500)\n",
    "#Variables x3 con 100 números aleatorios\n",
    "x3 = np.random.randn(100)\n"
   ]
  },
  {
   "cell_type": "code",
   "execution_count": 24,
   "id": "4a1d2d55-3495-4be9-9bbb-edb5caf3bbf3",
   "metadata": {},
   "outputs": [
    {
     "data": {
      "image/png": "[encoded data removed]",
      "text/plain": [
       "<Figure size 640x480 with 1 Axes>"
      ]
     },
     "metadata": {},
     "output_type": "display_data"
    }
   ],
   "source": [
    "#Creamos un histograma superpuestos con diferentes colores y con transparencia de 0.5\n",
    "plt.hist(x1, histtype='stepfilled', alpha=0.5);\n",
    "plt.hist(x2, histtype='stepfilled', alpha=0.5);\n",
    "plt.hist(x3, histtype='stepfilled', alpha=0.5);"
   ]
  },
  {
   "cell_type": "code",
   "execution_count": null,
   "id": "7443ee53-956c-4f59-9ba7-cb13c33acb5a",
   "metadata": {},
   "outputs": [],
   "source": []
  },
  {
   "cell_type": "code",
   "execution_count": null,
   "id": "25f7802e-3426-4290-b5ff-f6ebf66d2fc0",
   "metadata": {},
   "outputs": [],
   "source": []
  }
 ],
 "metadata": {
  "kernelspec": {
   "display_name": "Python 3 (ipykernel)",
   "language": "python",
   "name": "python3"
  },
  "language_info": {
   "codemirror_mode": {
    "name": "ipython",
    "version": 3
   },
   "file_extension": ".py",
   "mimetype": "text/x-python",
   "name": "python",
   "nbconvert_exporter": "python",
   "pygments_lexer": "ipython3",
   "version": "3.12.4"
  }
 },
 "nbformat": 4,
 "nbformat_minor": 5
}
