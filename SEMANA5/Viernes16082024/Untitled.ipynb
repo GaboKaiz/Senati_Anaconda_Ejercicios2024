{
 "cells": [
  {
   "cell_type": "code",
   "execution_count": 3,
   "id": "860576f7-a40d-4922-81b6-097ffdd71b31",
   "metadata": {},
   "outputs": [],
   "source": [
    "import pandas as pd\n",
    "import numpy as np"
   ]
  },
  {
   "cell_type": "code",
   "execution_count": 16,
   "id": "7187a0f7-2933-4493-989d-aaa69622a3f3",
   "metadata": {},
   "outputs": [
    {
     "data": {
      "text/plain": [
       "array([[0.30471585, 0.12469474],\n",
       "       [0.85140018, 0.60094246],\n",
       "       [0.59674539, 0.04639762],\n",
       "       [0.51369521, 0.60005073],\n",
       "       [0.01488163, 0.0978375 ],\n",
       "       [0.79758323, 0.74672857],\n",
       "       [0.61799098, 0.75992649],\n",
       "       [0.53622428, 0.05378427],\n",
       "       [0.58133157, 0.30079628],\n",
       "       [0.41764683, 0.08325825]])"
      ]
     },
     "execution_count": 16,
     "metadata": {},
     "output_type": "execute_result"
    }
   ],
   "source": [
    "m = np.random.rand(10,2)\n",
    "m"
   ]
  },
  {
   "cell_type": "code",
   "execution_count": 46,
   "id": "ebb53bfb-8341-46c1-b17f-6d1f8fbb09a6",
   "metadata": {},
   "outputs": [
    {
     "data": {
      "text/plain": [
       "array([9, 9, 9, 9, 9, 9, 9, 9, 9, 9])"
      ]
     },
     "execution_count": 46,
     "metadata": {},
     "output_type": "execute_result"
    }
   ],
   "source": [
    "k = np.random.randint(9,10,10)\n",
    "k"
   ]
  },
  {
   "cell_type": "code",
   "execution_count": null,
   "id": "ecbd31db-3e37-488e-900d-623c1952bf06",
   "metadata": {},
   "outputs": [],
   "source": []
  },
  {
   "cell_type": "code",
   "execution_count": null,
   "id": "4f9e7447-d9d3-4208-aae9-70e4ca6cb795",
   "metadata": {},
   "outputs": [],
   "source": []
  }
 ],
 "metadata": {
  "kernelspec": {
   "display_name": "Python 3 (ipykernel)",
   "language": "python",
   "name": "python3"
  },
  "language_info": {
   "codemirror_mode": {
    "name": "ipython",
    "version": 3
   },
   "file_extension": ".py",
   "mimetype": "text/x-python",
   "name": "python",
   "nbconvert_exporter": "python",
   "pygments_lexer": "ipython3",
   "version": "3.12.4"
  }
 },
 "nbformat": 4,
 "nbformat_minor": 5
}
