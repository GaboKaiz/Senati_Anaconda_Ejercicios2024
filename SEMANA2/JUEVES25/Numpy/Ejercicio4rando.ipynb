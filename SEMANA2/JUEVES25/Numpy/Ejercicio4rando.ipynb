{
 "cells": [
  {
   "cell_type": "code",
   "execution_count": 5,
   "id": "ad805494-a259-4b75-9ad7-1ca1d222ea95",
   "metadata": {},
   "outputs": [],
   "source": [
    "import numpy as np"
   ]
  },
  {
   "cell_type": "code",
   "execution_count": 37,
   "id": "8e63b721-fecb-46e8-b89e-6ab22f86fe43",
   "metadata": {},
   "outputs": [],
   "source": [
    "array = np.arange(0,100,3)"
   ]
  },
  {
   "cell_type": "code",
   "execution_count": 39,
   "id": "c796f752-09eb-49dc-a4c9-b3599cd6f206",
   "metadata": {},
   "outputs": [
    {
     "data": {
      "text/plain": [
       "array([ 0,  3,  6,  9, 12, 15, 18, 21, 24, 27, 30, 33, 36, 39, 42, 45, 48,\n",
       "       51, 54, 57, 60, 63, 66, 69, 72, 75, 78, 81, 84, 87, 90, 93, 96, 99])"
      ]
     },
     "execution_count": 39,
     "metadata": {},
     "output_type": "execute_result"
    }
   ],
   "source": [
    "array"
   ]
  },
  {
   "cell_type": "code",
   "execution_count": 41,
   "id": "7df60dd6-0114-4713-b81a-e49caebaf2a8",
   "metadata": {},
   "outputs": [
    {
     "data": {
      "text/plain": [
       "0"
      ]
     },
     "execution_count": 41,
     "metadata": {},
     "output_type": "execute_result"
    }
   ],
   "source": [
    "array[0]"
   ]
  },
  {
   "cell_type": "code",
   "execution_count": 43,
   "id": "1f999124-0536-4d93-9d24-706c9f1b2dfb",
   "metadata": {},
   "outputs": [
    {
     "data": {
      "text/plain": [
       "6"
      ]
     },
     "execution_count": 43,
     "metadata": {},
     "output_type": "execute_result"
    }
   ],
   "source": [
    "array[2]"
   ]
  },
  {
   "cell_type": "code",
   "execution_count": 49,
   "id": "496c164e-9e88-4dce-946e-7510076253ab",
   "metadata": {},
   "outputs": [
    {
     "data": {
      "text/plain": [
       "array([27, 30, 33, 36, 39, 42])"
      ]
     },
     "execution_count": 49,
     "metadata": {},
     "output_type": "execute_result"
    }
   ],
   "source": [
    "array[9:15]"
   ]
  },
  {
   "cell_type": "code",
   "execution_count": 57,
   "id": "c4ba0d47-4f3a-48be-b9aa-d0ffe3d3040e",
   "metadata": {},
   "outputs": [
    {
     "data": {
      "text/plain": [
       "30"
      ]
     },
     "execution_count": 57,
     "metadata": {},
     "output_type": "execute_result"
    }
   ],
   "source": [
    "array[10]"
   ]
  },
  {
   "cell_type": "code",
   "execution_count": null,
   "id": "471945d1-7a45-465b-a93b-ee37a8820c6d",
   "metadata": {},
   "outputs": [],
   "source": []
  }
 ],
 "metadata": {
  "kernelspec": {
   "display_name": "Python 3 (ipykernel)",
   "language": "python",
   "name": "python3"
  },
  "language_info": {
   "codemirror_mode": {
    "name": "ipython",
    "version": 3
   },
   "file_extension": ".py",
   "mimetype": "text/x-python",
   "name": "python",
   "nbconvert_exporter": "python",
   "pygments_lexer": "ipython3",
   "version": "3.12.4"
  }
 },
 "nbformat": 4,
 "nbformat_minor": 5
}
