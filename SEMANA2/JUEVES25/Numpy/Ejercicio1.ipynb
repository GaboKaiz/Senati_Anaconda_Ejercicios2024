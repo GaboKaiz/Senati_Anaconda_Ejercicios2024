{
 "cells": [
  {
   "cell_type": "code",
   "execution_count": 3,
   "id": "15967141-a601-4bbc-8cd4-7d92a2c32df6",
   "metadata": {},
   "outputs": [],
   "source": [
    "import numpy as np"
   ]
  },
  {
   "cell_type": "code",
   "execution_count": 5,
   "id": "3c8422b2-c6d6-4607-a9fa-fca28c025855",
   "metadata": {},
   "outputs": [],
   "source": [
    "lista = [15,10,15,15,15,15,10,12,13,14,8,15]"
   ]
  },
  {
   "cell_type": "code",
   "execution_count": 7,
   "id": "634b06fc-78d1-4ca0-8da1-1c4e2ba087a2",
   "metadata": {},
   "outputs": [],
   "source": [
    "array = np.array(lista)"
   ]
  },
  {
   "cell_type": "code",
   "execution_count": 9,
   "id": "7874ea1e-cab9-4b31-b4b1-3ef8854b04af",
   "metadata": {},
   "outputs": [
    {
     "data": {
      "text/plain": [
       "array([15, 10, 15, 15, 15, 15, 10, 12, 13, 14,  8, 15])"
      ]
     },
     "execution_count": 9,
     "metadata": {},
     "output_type": "execute_result"
    }
   ],
   "source": [
    "array"
   ]
  },
  {
   "cell_type": "code",
   "execution_count": 27,
   "id": "b8f24771-ed18-4dad-87ac-7579a68df0aa",
   "metadata": {},
   "outputs": [],
   "source": [
    "lista2 = [[10,15,14],[1,2,3],[5,6,9]]"
   ]
  },
  {
   "cell_type": "code",
   "execution_count": 29,
   "id": "6226054e-fe63-4c80-a304-c440ffa2bc4b",
   "metadata": {},
   "outputs": [
    {
     "data": {
      "text/plain": [
       "array([10, 15, 14,  1,  2,  3,  4,  5,  6,  9])"
      ]
     },
     "execution_count": 29,
     "metadata": {},
     "output_type": "execute_result"
    }
   ],
   "source": [
    "array2"
   ]
  },
  {
   "cell_type": "code",
   "execution_count": 31,
   "id": "813f3a10-ece4-48cd-8699-a01b0f5a9455",
   "metadata": {},
   "outputs": [],
   "source": [
    "array2 = np.array(lista2)"
   ]
  },
  {
   "cell_type": "code",
   "execution_count": 33,
   "id": "330854d8-ab4b-45b7-9dc7-1dd632944d89",
   "metadata": {},
   "outputs": [
    {
     "data": {
      "text/plain": [
       "array([[10, 15, 14],\n",
       "       [ 1,  2,  3],\n",
       "       [ 5,  6,  9]])"
      ]
     },
     "execution_count": 33,
     "metadata": {},
     "output_type": "execute_result"
    }
   ],
   "source": [
    "array2"
   ]
  },
  {
   "cell_type": "code",
   "execution_count": 35,
   "id": "bf586f1f-098d-42f8-8f21-321751a6cbf5",
   "metadata": {},
   "outputs": [],
   "source": [
    "lista3 = [[10,12],[15,16]]"
   ]
  },
  {
   "cell_type": "code",
   "execution_count": 45,
   "id": "d6010b3b-6446-4469-b772-3bc6467eefb6",
   "metadata": {},
   "outputs": [],
   "source": [
    "array3 = np.array(lista3)"
   ]
  },
  {
   "cell_type": "code",
   "execution_count": 47,
   "id": "f87ea723-9b5d-487e-9e8c-cc500441ed3a",
   "metadata": {},
   "outputs": [
    {
     "data": {
      "text/plain": [
       "array([[10, 12],\n",
       "       [15, 16]])"
      ]
     },
     "execution_count": 47,
     "metadata": {},
     "output_type": "execute_result"
    }
   ],
   "source": [
    "array3"
   ]
  },
  {
   "cell_type": "code",
   "execution_count": null,
   "id": "ac3f8bf7-d17d-48ec-9484-39ff0075b0b9",
   "metadata": {},
   "outputs": [],
   "source": []
  }
 ],
 "metadata": {
  "kernelspec": {
   "display_name": "Python 3 (ipykernel)",
   "language": "python",
   "name": "python3"
  },
  "language_info": {
   "codemirror_mode": {
    "name": "ipython",
    "version": 3
   },
   "file_extension": ".py",
   "mimetype": "text/x-python",
   "name": "python",
   "nbconvert_exporter": "python",
   "pygments_lexer": "ipython3",
   "version": "3.12.4"
  }
 },
 "nbformat": 4,
 "nbformat_minor": 5
}
