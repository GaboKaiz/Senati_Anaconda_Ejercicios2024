{
 "cells": [
  {
   "cell_type": "code",
   "execution_count": 1,
   "id": "a1737afd-5bbe-4865-b7dd-935e5941aabe",
   "metadata": {},
   "outputs": [],
   "source": [
    "import numpy as np"
   ]
  },
  {
   "cell_type": "code",
   "execution_count": 29,
   "id": "4061ab98-0591-454c-9bd9-8393c0542792",
   "metadata": {},
   "outputs": [
    {
     "data": {
      "text/plain": [
       "array([0.50871547, 0.97053994, 0.17660474, 0.59352378, 0.10828635])"
      ]
     },
     "execution_count": 29,
     "metadata": {},
     "output_type": "execute_result"
    }
   ],
   "source": [
    "np.random.rand(5)"
   ]
  },
  {
   "cell_type": "code",
   "execution_count": 31,
   "id": "17a82e87-3b9f-4a77-95de-fdc7b180cbfa",
   "metadata": {},
   "outputs": [
    {
     "data": {
      "text/plain": [
       "array([[0.04714214, 0.41403413, 0.09686224],\n",
       "       [0.48544711, 0.34879851, 0.23504239]])"
      ]
     },
     "execution_count": 31,
     "metadata": {},
     "output_type": "execute_result"
    }
   ],
   "source": [
    "np.random.rand(2,3)"
   ]
  },
  {
   "cell_type": "code",
   "execution_count": 35,
   "id": "30e7bb15-07cc-47f3-8f7a-03f31f4c7bb8",
   "metadata": {},
   "outputs": [
    {
     "data": {
      "text/plain": [
       "array([-0.1758716 ,  1.99210938, -0.32633052, -0.07736229])"
      ]
     },
     "execution_count": 35,
     "metadata": {},
     "output_type": "execute_result"
    }
   ],
   "source": [
    "np.random.randn(4)"
   ]
  },
  {
   "cell_type": "code",
   "execution_count": 37,
   "id": "03ffb6f3-8563-4d14-9d42-76f40e5b165b",
   "metadata": {},
   "outputs": [
    {
     "data": {
      "text/plain": [
       "array([[ 0.73168428, -0.322658  , -1.79935979,  0.84701806,  0.43893001],\n",
       "       [ 0.06585054,  1.46027042, -0.98156545, -0.19563808,  0.42524618],\n",
       "       [-1.32582773,  1.29423582, -0.07003178,  0.01435232, -0.39388837],\n",
       "       [ 0.69881439,  0.60179405, -0.80032409, -0.27695923, -1.21504866]])"
      ]
     },
     "execution_count": 37,
     "metadata": {},
     "output_type": "execute_result"
    }
   ],
   "source": [
    "np.random.randn(4,5)"
   ]
  },
  {
   "cell_type": "code",
   "execution_count": null,
   "id": "050bc810-f943-4743-9f69-53b386199d2e",
   "metadata": {},
   "outputs": [],
   "source": []
  }
 ],
 "metadata": {
  "kernelspec": {
   "display_name": "Python 3 (ipykernel)",
   "language": "python",
   "name": "python3"
  },
  "language_info": {
   "codemirror_mode": {
    "name": "ipython",
    "version": 3
   },
   "file_extension": ".py",
   "mimetype": "text/x-python",
   "name": "python",
   "nbconvert_exporter": "python",
   "pygments_lexer": "ipython3",
   "version": "3.12.4"
  }
 },
 "nbformat": 4,
 "nbformat_minor": 5
}
