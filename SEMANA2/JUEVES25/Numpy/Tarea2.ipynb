{
 "cells": [
  {
   "cell_type": "code",
   "execution_count": 1,
   "id": "6d46767d-2879-4de0-83f4-954db9668bff",
   "metadata": {},
   "outputs": [],
   "source": [
    "import numpy as np"
   ]
  },
  {
   "cell_type": "code",
   "execution_count": 41,
   "id": "d0e4f04a-2a0d-4815-8f5f-c5a123f56fd2",
   "metadata": {},
   "outputs": [],
   "source": [
    "#1\n",
    "array = np.random.randint(0,100,9)"
   ]
  },
  {
   "cell_type": "code",
   "execution_count": 43,
   "id": "b612fa38-fc85-4cd0-8cd2-af30ce80bcfe",
   "metadata": {},
   "outputs": [
    {
     "data": {
      "text/plain": [
       "array([35, 93, 11, 57, 24, 41, 84, 34, 22])"
      ]
     },
     "execution_count": 43,
     "metadata": {},
     "output_type": "execute_result"
    }
   ],
   "source": [
    "array"
   ]
  },
  {
   "cell_type": "code",
   "execution_count": 45,
   "id": "d20f09fe-653a-4087-a2be-9fdfd9df0094",
   "metadata": {},
   "outputs": [],
   "source": [
    "#2\n",
    "matriz = array.reshape(3,3)"
   ]
  },
  {
   "cell_type": "code",
   "execution_count": 47,
   "id": "d4d7483b-d5f5-4511-ad39-96c5b5f3605f",
   "metadata": {},
   "outputs": [
    {
     "data": {
      "text/plain": [
       "array([[35, 93, 11],\n",
       "       [57, 24, 41],\n",
       "       [84, 34, 22]])"
      ]
     },
     "execution_count": 47,
     "metadata": {},
     "output_type": "execute_result"
    }
   ],
   "source": [
    "matriz"
   ]
  },
  {
   "cell_type": "code",
   "execution_count": 57,
   "id": "49312969-c578-42de-abea-daf1ac11e55e",
   "metadata": {},
   "outputs": [
    {
     "data": {
      "text/plain": [
       "11"
      ]
     },
     "execution_count": 57,
     "metadata": {},
     "output_type": "execute_result"
    }
   ],
   "source": [
    "#3\n",
    "matriz[0][2]"
   ]
  }
 ],
 "metadata": {
  "kernelspec": {
   "display_name": "Python 3 (ipykernel)",
   "language": "python",
   "name": "python3"
  },
  "language_info": {
   "codemirror_mode": {
    "name": "ipython",
    "version": 3
   },
   "file_extension": ".py",
   "mimetype": "text/x-python",
   "name": "python",
   "nbconvert_exporter": "python",
   "pygments_lexer": "ipython3",
   "version": "3.12.4"
  }
 },
 "nbformat": 4,
 "nbformat_minor": 5
}
