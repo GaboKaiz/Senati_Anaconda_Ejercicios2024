{
 "cells": [
  {
   "cell_type": "code",
   "execution_count": 1,
   "id": "66bd7fd1-aeec-4d61-be27-e2afe102dec7",
   "metadata": {},
   "outputs": [],
   "source": [
    "import numpy as np"
   ]
  },
  {
   "cell_type": "code",
   "execution_count": 35,
   "id": "3ba738e5-527b-4b5e-a3b9-6ee6f232fe96",
   "metadata": {},
   "outputs": [
    {
     "data": {
      "text/plain": [
       "12"
      ]
     },
     "execution_count": 35,
     "metadata": {},
     "output_type": "execute_result"
    }
   ],
   "source": [
    "np.random.randint(1,20)"
   ]
  },
  {
   "cell_type": "code",
   "execution_count": 49,
   "id": "8663a0bc-46a1-4e89-8b65-bdaa573f0caa",
   "metadata": {},
   "outputs": [
    {
     "data": {
      "text/plain": [
       "array([ 72, 107,  50, 111,  61])"
      ]
     },
     "execution_count": 49,
     "metadata": {},
     "output_type": "execute_result"
    }
   ],
   "source": [
    "np.random.randint(1,200,5)"
   ]
  },
  {
   "cell_type": "code",
   "execution_count": 71,
   "id": "26a789c4-7d57-45b3-a500-73530e00ce89",
   "metadata": {},
   "outputs": [],
   "source": [
    "array = np.random.randint(1,100,50)"
   ]
  },
  {
   "cell_type": "code",
   "execution_count": 73,
   "id": "46706c79-ff5f-48f7-ad7d-2a81d0883f3c",
   "metadata": {},
   "outputs": [
    {
     "data": {
      "text/plain": [
       "array([92, 60, 18, 40, 62, 41, 12, 30, 86, 36, 28, 81, 77, 63, 72, 99, 13,\n",
       "       69, 47, 55, 72, 61, 92, 92,  1,  8, 45, 89, 86, 15, 72, 24,  9, 39,\n",
       "       45,  3, 36, 55, 34,  7,  9,  1, 15, 43, 55, 96, 64, 73, 45, 28])"
      ]
     },
     "execution_count": 73,
     "metadata": {},
     "output_type": "execute_result"
    }
   ],
   "source": [
    "array"
   ]
  },
  {
   "cell_type": "code",
   "execution_count": 77,
   "id": "d6b953f7-cc0c-49c7-9f66-50993dbfa510",
   "metadata": {},
   "outputs": [],
   "source": [
    "valor_maximo = array.max()"
   ]
  },
  {
   "cell_type": "code",
   "execution_count": 79,
   "id": "03ea68d7-68fb-476d-9f95-cd23ab43c8fd",
   "metadata": {},
   "outputs": [
    {
     "data": {
      "text/plain": [
       "99"
      ]
     },
     "execution_count": 79,
     "metadata": {},
     "output_type": "execute_result"
    }
   ],
   "source": [
    "valor_maximo"
   ]
  },
  {
   "cell_type": "code",
   "execution_count": 81,
   "id": "0b797edb-1579-4b3b-9fcd-bd86c32874b9",
   "metadata": {},
   "outputs": [],
   "source": [
    "valor_minimo = array.min()"
   ]
  },
  {
   "cell_type": "code",
   "execution_count": 83,
   "id": "78a1e0fa-2aaf-4f44-9051-a1b16b310333",
   "metadata": {},
   "outputs": [
    {
     "data": {
      "text/plain": [
       "1"
      ]
     },
     "execution_count": 83,
     "metadata": {},
     "output_type": "execute_result"
    }
   ],
   "source": [
    "valor_minimo"
   ]
  },
  {
   "cell_type": "code",
   "execution_count": 85,
   "id": "d609ecb2-8690-4ee8-b732-3f79518746cf",
   "metadata": {},
   "outputs": [],
   "source": [
    "#posición del valor maximo\n",
    "posicion_valor_maximo = array.argmax()"
   ]
  },
  {
   "cell_type": "code",
   "execution_count": 87,
   "id": "c603018e-8db9-46c0-a778-f4e3f10edd60",
   "metadata": {},
   "outputs": [
    {
     "data": {
      "text/plain": [
       "15"
      ]
     },
     "execution_count": 87,
     "metadata": {},
     "output_type": "execute_result"
    }
   ],
   "source": [
    "posicion_valor_maximo"
   ]
  },
  {
   "cell_type": "code",
   "execution_count": 89,
   "id": "f3efeac7-3572-46af-8e0f-c8690b7c2647",
   "metadata": {},
   "outputs": [],
   "source": [
    "posicion_Valor_minimo = array.argmin()"
   ]
  },
  {
   "cell_type": "code",
   "execution_count": 91,
   "id": "d2ae5864-5b46-48f9-a6e1-ee5282699cdd",
   "metadata": {},
   "outputs": [
    {
     "data": {
      "text/plain": [
       "24"
      ]
     },
     "execution_count": 91,
     "metadata": {},
     "output_type": "execute_result"
    }
   ],
   "source": [
    "posicion_Valor_minimo"
   ]
  }
 ],
 "metadata": {
  "kernelspec": {
   "display_name": "Python 3 (ipykernel)",
   "language": "python",
   "name": "python3"
  },
  "language_info": {
   "codemirror_mode": {
    "name": "ipython",
    "version": 3
   },
   "file_extension": ".py",
   "mimetype": "text/x-python",
   "name": "python",
   "nbconvert_exporter": "python",
   "pygments_lexer": "ipython3",
   "version": "3.12.4"
  }
 },
 "nbformat": 4,
 "nbformat_minor": 5
}
