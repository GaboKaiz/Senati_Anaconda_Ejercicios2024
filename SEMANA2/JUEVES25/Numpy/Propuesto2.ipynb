{
 "cells": [
  {
   "cell_type": "code",
   "execution_count": 3,
   "id": "ff9896d9-35d0-4b76-b27c-7c6d02cf5d44",
   "metadata": {},
   "outputs": [],
   "source": [
    "import numpy as np"
   ]
  },
  {
   "cell_type": "code",
   "execution_count": 25,
   "id": "e5086154-b3c1-44e0-8900-5e53cf20739a",
   "metadata": {},
   "outputs": [
    {
     "data": {
      "text/plain": [
       "array([  5,  15,  25,  35,  45,  55,  65,  75,  85,  95, 105, 115, 125,\n",
       "       135, 145, 155, 165, 175, 185, 195, 205, 215, 225, 235, 245])"
      ]
     },
     "execution_count": 25,
     "metadata": {},
     "output_type": "execute_result"
    }
   ],
   "source": [
    "def generar_secuencia_numerica(minimo,maximo,paso):\n",
    "    clase = np.arange(minimo,maximo,paso)\n",
    "    return clase\n",
    "minimo=5\n",
    "maximo=250\n",
    "paso= 10\n",
    "\n",
    "primera = generar_secuencia_numerica(minimo,maximo,paso)\n",
    "primera"
   ]
  }
 ],
 "metadata": {
  "kernelspec": {
   "display_name": "Python 3 (ipykernel)",
   "language": "python",
   "name": "python3"
  },
  "language_info": {
   "codemirror_mode": {
    "name": "ipython",
    "version": 3
   },
   "file_extension": ".py",
   "mimetype": "text/x-python",
   "name": "python",
   "nbconvert_exporter": "python",
   "pygments_lexer": "ipython3",
   "version": "3.12.4"
  }
 },
 "nbformat": 4,
 "nbformat_minor": 5
}
