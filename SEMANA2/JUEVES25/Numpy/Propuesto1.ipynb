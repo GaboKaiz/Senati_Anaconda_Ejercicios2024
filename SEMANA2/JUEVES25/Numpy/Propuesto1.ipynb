{
 "cells": [
  {
   "cell_type": "code",
   "execution_count": 1,
   "id": "4dd54f9a-ff91-4c3c-be20-d9064ff3d4e8",
   "metadata": {},
   "outputs": [],
   "source": [
    "import numpy as np"
   ]
  },
  {
   "cell_type": "code",
   "execution_count": 98,
   "id": "07125ed3-aff5-4c77-b8cd-1cd206445e3b",
   "metadata": {},
   "outputs": [],
   "source": [
    "def generar_numeros_enteros_aleatorios(N,minimo,maximo):\n",
    "    min= np.random.randint(0,100,10)\n",
    "    minimo = min.min()\n",
    "    ma= np.random.randint(0,100,10)\n",
    "    maximo = ma.max()\n",
    "    N = 10\n",
    "    lista = \n",
    "    return \n"
   ]
  },
  {
   "cell_type": "code",
   "execution_count": null,
   "id": "2ce6f283-f489-4e8a-ae4b-bee00219dec7",
   "metadata": {},
   "outputs": [],
   "source": []
  },
  {
   "cell_type": "code",
   "execution_count": null,
   "id": "af73ceac-6cd9-48fb-bb72-f7183b29a841",
   "metadata": {},
   "outputs": [],
   "source": []
  },
  {
   "cell_type": "code",
   "execution_count": null,
   "id": "b9c63077-8903-48d7-a155-b36d0b0c5b20",
   "metadata": {},
   "outputs": [],
   "source": []
  },
  {
   "cell_type": "code",
   "execution_count": null,
   "id": "8e275313-20c5-407e-9246-1768a6bb96d4",
   "metadata": {},
   "outputs": [],
   "source": []
  }
 ],
 "metadata": {
  "kernelspec": {
   "display_name": "Python 3 (ipykernel)",
   "language": "python",
   "name": "python3"
  },
  "language_info": {
   "codemirror_mode": {
    "name": "ipython",
    "version": 3
   },
   "file_extension": ".py",
   "mimetype": "text/x-python",
   "name": "python",
   "nbconvert_exporter": "python",
   "pygments_lexer": "ipython3",
   "version": "3.12.4"
  }
 },
 "nbformat": 4,
 "nbformat_minor": 5
}
