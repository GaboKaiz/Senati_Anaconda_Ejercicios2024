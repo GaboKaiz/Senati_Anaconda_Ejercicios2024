{
 "cells": [
  {
   "cell_type": "code",
   "execution_count": 3,
   "id": "e6ba970d-cdb6-4c75-ae8c-62afee44d772",
   "metadata": {},
   "outputs": [],
   "source": [
    "import pandas as pd\n",
    "import numpy as np"
   ]
  },
  {
   "cell_type": "code",
   "execution_count": 9,
   "id": "88cf560c-1f01-4e92-a2aa-2fca87bc048f",
   "metadata": {},
   "outputs": [
    {
     "data": {
      "text/plain": [
       "Ian        1\n",
       "Gabriel    2\n",
       "Zuñiga     3\n",
       "dtype: int64"
      ]
     },
     "execution_count": 9,
     "metadata": {},
     "output_type": "execute_result"
    }
   ],
   "source": [
    "etiqueta = ['Ian','Gabriel','Zuñiga']\n",
    "datos = [1,2,3]\n",
    "pd.Series(datos, index = etiqueta)"
   ]
  },
  {
   "cell_type": "code",
   "execution_count": 13,
   "id": "f8c55f85-946e-4270-8b8f-2b317e87e3ae",
   "metadata": {},
   "outputs": [],
   "source": [
    "array = np.arange(5,8)\n",
    "etiqueta = ['Venta1','Venta2','Venta3']\n",
    "serie1 = pd.Series(array,etiqueta)"
   ]
  },
  {
   "cell_type": "code",
   "execution_count": 15,
   "id": "3b2cf3ad-bfba-480e-a135-97d7078c809f",
   "metadata": {},
   "outputs": [
    {
     "data": {
      "text/plain": [
       "Venta1    5\n",
       "Venta2    6\n",
       "Venta3    7\n",
       "dtype: int32"
      ]
     },
     "execution_count": 15,
     "metadata": {},
     "output_type": "execute_result"
    }
   ],
   "source": [
    "serie1"
   ]
  },
  {
   "cell_type": "code",
   "execution_count": 17,
   "id": "df11b921-e029-4680-a223-56e5941f6580",
   "metadata": {},
   "outputs": [
    {
     "data": {
      "text/plain": [
       "6"
      ]
     },
     "execution_count": 17,
     "metadata": {},
     "output_type": "execute_result"
    }
   ],
   "source": [
    "serie1['Venta2']"
   ]
  },
  {
   "cell_type": "code",
   "execution_count": null,
   "id": "736c4f54-023d-466f-86a9-16b6a4a94e2b",
   "metadata": {},
   "outputs": [],
   "source": []
  }
 ],
 "metadata": {
  "kernelspec": {
   "display_name": "Python 3 (ipykernel)",
   "language": "python",
   "name": "python3"
  },
  "language_info": {
   "codemirror_mode": {
    "name": "ipython",
    "version": 3
   },
   "file_extension": ".py",
   "mimetype": "text/x-python",
   "name": "python",
   "nbconvert_exporter": "python",
   "pygments_lexer": "ipython3",
   "version": "3.12.4"
  }
 },
 "nbformat": 4,
 "nbformat_minor": 5
}
