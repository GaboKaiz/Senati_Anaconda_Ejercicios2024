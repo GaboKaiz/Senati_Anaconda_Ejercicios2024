{
 "cells": [
  {
   "cell_type": "code",
   "execution_count": 1,
   "id": "44d469b0-f53c-41e0-9c22-f2564c63dfe1",
   "metadata": {},
   "outputs": [],
   "source": [
    "import pandas as pd\n",
    "import numpy as np"
   ]
  },
  {
   "cell_type": "code",
   "execution_count": 11,
   "id": "7e94d984-7ccd-45b0-935c-cadcecd2e20b",
   "metadata": {},
   "outputs": [],
   "source": [
    "filas= ['Venta1','Venta2','Venta3']\n",
    "columnas = ['ZonaA','ZonaB','ZonaC']\n",
    "datos = [[123,421,256],[234,541,257],[120,451,258]]\n"
   ]
  },
  {
   "cell_type": "code",
   "execution_count": 13,
   "id": "68d4b954-abb8-4fd2-b01d-4a5c32e35588",
   "metadata": {},
   "outputs": [],
   "source": [
    "dataFrame= pd.DataFrame(datos,filas,columnas)"
   ]
  },
  {
   "cell_type": "code",
   "execution_count": 15,
   "id": "7d795337-38e7-455e-9082-9e28ce053c1b",
   "metadata": {},
   "outputs": [
    {
     "data": {
      "text/html": [
       "<div>\n",
       "<style scoped>\n",
       "    .dataframe tbody tr th:only-of-type {\n",
       "        vertical-align: middle;\n",
       "    }\n",
       "\n",
       "    .dataframe tbody tr th {\n",
       "        vertical-align: top;\n",
       "    }\n",
       "\n",
       "    .dataframe thead th {\n",
       "        text-align: right;\n",
       "    }\n",
       "</style>\n",
       "<table border=\"1\" class=\"dataframe\">\n",
       "  <thead>\n",
       "    <tr style=\"text-align: right;\">\n",
       "      <th></th>\n",
       "      <th>ZonaA</th>\n",
       "      <th>ZonaB</th>\n",
       "      <th>ZonaC</th>\n",
       "    </tr>\n",
       "  </thead>\n",
       "  <tbody>\n",
       "    <tr>\n",
       "      <th>Venta1</th>\n",
       "      <td>123</td>\n",
       "      <td>421</td>\n",
       "      <td>256</td>\n",
       "    </tr>\n",
       "    <tr>\n",
       "      <th>Venta2</th>\n",
       "      <td>234</td>\n",
       "      <td>541</td>\n",
       "      <td>257</td>\n",
       "    </tr>\n",
       "    <tr>\n",
       "      <th>Venta3</th>\n",
       "      <td>120</td>\n",
       "      <td>451</td>\n",
       "      <td>258</td>\n",
       "    </tr>\n",
       "  </tbody>\n",
       "</table>\n",
       "</div>"
      ],
      "text/plain": [
       "        ZonaA  ZonaB  ZonaC\n",
       "Venta1    123    421    256\n",
       "Venta2    234    541    257\n",
       "Venta3    120    451    258"
      ]
     },
     "execution_count": 15,
     "metadata": {},
     "output_type": "execute_result"
    }
   ],
   "source": [
    "dataFrame"
   ]
  },
  {
   "cell_type": "code",
   "execution_count": 17,
   "id": "5883bd93-8a45-4189-9e3f-471ae4a2670e",
   "metadata": {},
   "outputs": [
    {
     "data": {
      "text/plain": [
       "ZonaA    123\n",
       "ZonaB    421\n",
       "ZonaC    256\n",
       "Name: Venta1, dtype: int64"
      ]
     },
     "execution_count": 17,
     "metadata": {},
     "output_type": "execute_result"
    }
   ],
   "source": [
    "dataFrame.loc['Venta1']"
   ]
  },
  {
   "cell_type": "code",
   "execution_count": 25,
   "id": "1f55b092-2dd0-4c66-b6bc-9a65ea4571a9",
   "metadata": {},
   "outputs": [
    {
     "data": {
      "text/html": [
       "<div>\n",
       "<style scoped>\n",
       "    .dataframe tbody tr th:only-of-type {\n",
       "        vertical-align: middle;\n",
       "    }\n",
       "\n",
       "    .dataframe tbody tr th {\n",
       "        vertical-align: top;\n",
       "    }\n",
       "\n",
       "    .dataframe thead th {\n",
       "        text-align: right;\n",
       "    }\n",
       "</style>\n",
       "<table border=\"1\" class=\"dataframe\">\n",
       "  <thead>\n",
       "    <tr style=\"text-align: right;\">\n",
       "      <th></th>\n",
       "      <th>ZonaA</th>\n",
       "      <th>ZonaB</th>\n",
       "      <th>ZonaC</th>\n",
       "    </tr>\n",
       "  </thead>\n",
       "  <tbody>\n",
       "    <tr>\n",
       "      <th>Venta1</th>\n",
       "      <td>123</td>\n",
       "      <td>421</td>\n",
       "      <td>256</td>\n",
       "    </tr>\n",
       "    <tr>\n",
       "      <th>Venta2</th>\n",
       "      <td>234</td>\n",
       "      <td>541</td>\n",
       "      <td>257</td>\n",
       "    </tr>\n",
       "  </tbody>\n",
       "</table>\n",
       "</div>"
      ],
      "text/plain": [
       "        ZonaA  ZonaB  ZonaC\n",
       "Venta1    123    421    256\n",
       "Venta2    234    541    257"
      ]
     },
     "execution_count": 25,
     "metadata": {},
     "output_type": "execute_result"
    }
   ],
   "source": [
    "dataFrame.loc[['Venta1','Venta2']]"
   ]
  },
  {
   "cell_type": "code",
   "execution_count": 35,
   "id": "19c7b3a2-fb35-4ca8-b87e-b5ab8339ae06",
   "metadata": {},
   "outputs": [
    {
     "data": {
      "text/plain": [
       "Venta1    123\n",
       "Venta2    234\n",
       "Venta3    120\n",
       "Name: ZonaA, dtype: int64"
      ]
     },
     "execution_count": 35,
     "metadata": {},
     "output_type": "execute_result"
    }
   ],
   "source": [
    "dataFrame['ZonaA']"
   ]
  },
  {
   "cell_type": "code",
   "execution_count": 41,
   "id": "f4ee9800-63e3-4ad8-8b26-a2687bfff9bf",
   "metadata": {},
   "outputs": [
    {
     "data": {
      "text/html": [
       "<div>\n",
       "<style scoped>\n",
       "    .dataframe tbody tr th:only-of-type {\n",
       "        vertical-align: middle;\n",
       "    }\n",
       "\n",
       "    .dataframe tbody tr th {\n",
       "        vertical-align: top;\n",
       "    }\n",
       "\n",
       "    .dataframe thead th {\n",
       "        text-align: right;\n",
       "    }\n",
       "</style>\n",
       "<table border=\"1\" class=\"dataframe\">\n",
       "  <thead>\n",
       "    <tr style=\"text-align: right;\">\n",
       "      <th></th>\n",
       "      <th>ZonaA</th>\n",
       "      <th>ZonaB</th>\n",
       "    </tr>\n",
       "  </thead>\n",
       "  <tbody>\n",
       "    <tr>\n",
       "      <th>Venta1</th>\n",
       "      <td>123</td>\n",
       "      <td>421</td>\n",
       "    </tr>\n",
       "    <tr>\n",
       "      <th>Venta2</th>\n",
       "      <td>234</td>\n",
       "      <td>541</td>\n",
       "    </tr>\n",
       "    <tr>\n",
       "      <th>Venta3</th>\n",
       "      <td>120</td>\n",
       "      <td>451</td>\n",
       "    </tr>\n",
       "  </tbody>\n",
       "</table>\n",
       "</div>"
      ],
      "text/plain": [
       "        ZonaA  ZonaB\n",
       "Venta1    123    421\n",
       "Venta2    234    541\n",
       "Venta3    120    451"
      ]
     },
     "execution_count": 41,
     "metadata": {},
     "output_type": "execute_result"
    }
   ],
   "source": [
    "dataFrame[['ZonaA','ZonaB']]"
   ]
  }
 ],
 "metadata": {
  "kernelspec": {
   "display_name": "Python 3 (ipykernel)",
   "language": "python",
   "name": "python3"
  },
  "language_info": {
   "codemirror_mode": {
    "name": "ipython",
    "version": 3
   },
   "file_extension": ".py",
   "mimetype": "text/x-python",
   "name": "python",
   "nbconvert_exporter": "python",
   "pygments_lexer": "ipython3",
   "version": "3.12.4"
  }
 },
 "nbformat": 4,
 "nbformat_minor": 5
}
