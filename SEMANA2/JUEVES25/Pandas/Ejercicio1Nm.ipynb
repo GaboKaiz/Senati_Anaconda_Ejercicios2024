{
 "cells": [
  {
   "cell_type": "code",
   "execution_count": 1,
   "id": "f08b5f0b-3b18-4b18-9979-087db14442a6",
   "metadata": {},
   "outputs": [],
   "source": [
    "import pandas as pd\n",
    "import numpy as np"
   ]
  },
  {
   "cell_type": "code",
   "execution_count": 61,
   "id": "18499888-1ab7-44d5-a1dc-571960886adb",
   "metadata": {},
   "outputs": [],
   "source": [
    "encabezado= ['Notas']\n",
    "asignaturas = ['Matemática','Física','Historia']\n",
    "notas = [[9],[9],[8]]\n"
   ]
  },
  {
   "cell_type": "code",
   "execution_count": 63,
   "id": "66332bc3-9687-4bde-b126-7fa672e4cb3a",
   "metadata": {},
   "outputs": [],
   "source": [
    "dataFrame= pd.DataFrame(notas,asignaturas,encabezado)\n"
   ]
  },
  {
   "cell_type": "code",
   "execution_count": 65,
   "id": "442a4695-72a8-42f1-8fad-91dfd2a28fcb",
   "metadata": {},
   "outputs": [
    {
     "data": {
      "text/html": [
       "<div>\n",
       "<style scoped>\n",
       "    .dataframe tbody tr th:only-of-type {\n",
       "        vertical-align: middle;\n",
       "    }\n",
       "\n",
       "    .dataframe tbody tr th {\n",
       "        vertical-align: top;\n",
       "    }\n",
       "\n",
       "    .dataframe thead th {\n",
       "        text-align: right;\n",
       "    }\n",
       "</style>\n",
       "<table border=\"1\" class=\"dataframe\">\n",
       "  <thead>\n",
       "    <tr style=\"text-align: right;\">\n",
       "      <th></th>\n",
       "      <th>Notas</th>\n",
       "    </tr>\n",
       "  </thead>\n",
       "  <tbody>\n",
       "    <tr>\n",
       "      <th>Matemática</th>\n",
       "      <td>9</td>\n",
       "    </tr>\n",
       "    <tr>\n",
       "      <th>Física</th>\n",
       "      <td>9</td>\n",
       "    </tr>\n",
       "    <tr>\n",
       "      <th>Historia</th>\n",
       "      <td>8</td>\n",
       "    </tr>\n",
       "  </tbody>\n",
       "</table>\n",
       "</div>"
      ],
      "text/plain": [
       "            Notas\n",
       "Matemática      9\n",
       "Física          9\n",
       "Historia        8"
      ]
     },
     "execution_count": 65,
     "metadata": {},
     "output_type": "execute_result"
    }
   ],
   "source": [
    "dataFrame"
   ]
  },
  {
   "cell_type": "code",
   "execution_count": 215,
   "id": "90a928e0-909a-4987-a879-dd393680d8a3",
   "metadata": {},
   "outputs": [],
   "source": [
    "fila= ['Notas','x','y']\n",
    "asignaturas = ['Matemática','Física','Historia']\n",
    "notas = [[9,9,8],[0,0,0],[0,0,0]]\n"
   ]
  },
  {
   "cell_type": "code",
   "execution_count": 217,
   "id": "951e8f81-bef0-4f64-a562-dddaff00a68c",
   "metadata": {},
   "outputs": [],
   "source": [
    "dataFrame= pd.DataFrame(notas,fila,asignaturas)"
   ]
  },
  {
   "cell_type": "code",
   "execution_count": 219,
   "id": "725fee39-2ce0-4e3b-bf45-70ece2a1eeb4",
   "metadata": {},
   "outputs": [
    {
     "data": {
      "text/html": [
       "<div>\n",
       "<style scoped>\n",
       "    .dataframe tbody tr th:only-of-type {\n",
       "        vertical-align: middle;\n",
       "    }\n",
       "\n",
       "    .dataframe tbody tr th {\n",
       "        vertical-align: top;\n",
       "    }\n",
       "\n",
       "    .dataframe thead th {\n",
       "        text-align: right;\n",
       "    }\n",
       "</style>\n",
       "<table border=\"1\" class=\"dataframe\">\n",
       "  <thead>\n",
       "    <tr style=\"text-align: right;\">\n",
       "      <th></th>\n",
       "      <th>Matemática</th>\n",
       "      <th>Física</th>\n",
       "      <th>Historia</th>\n",
       "    </tr>\n",
       "  </thead>\n",
       "  <tbody>\n",
       "    <tr>\n",
       "      <th>Notas</th>\n",
       "      <td>9</td>\n",
       "      <td>9</td>\n",
       "      <td>8</td>\n",
       "    </tr>\n",
       "    <tr>\n",
       "      <th>x</th>\n",
       "      <td>0</td>\n",
       "      <td>0</td>\n",
       "      <td>0</td>\n",
       "    </tr>\n",
       "    <tr>\n",
       "      <th>y</th>\n",
       "      <td>0</td>\n",
       "      <td>0</td>\n",
       "      <td>0</td>\n",
       "    </tr>\n",
       "  </tbody>\n",
       "</table>\n",
       "</div>"
      ],
      "text/plain": [
       "       Matemática  Física  Historia\n",
       "Notas           9       9         8\n",
       "x               0       0         0\n",
       "y               0       0         0"
      ]
     },
     "execution_count": 219,
     "metadata": {},
     "output_type": "execute_result"
    }
   ],
   "source": [
    "dataFrame"
   ]
  },
  {
   "cell_type": "code",
   "execution_count": 199,
   "id": "6f4431ce-c8de-4ca4-81e1-b1334960dabe",
   "metadata": {},
   "outputs": [
    {
     "data": {
      "text/plain": [
       "9"
      ]
     },
     "execution_count": 199,
     "metadata": {},
     "output_type": "execute_result"
    }
   ],
   "source": [
    "nota_fisica =  datos[0][1]\n",
    "nota_fisica"
   ]
  },
  {
   "cell_type": "code",
   "execution_count": 201,
   "id": "ac80d203-69b3-4d81-819e-38c09edd4671",
   "metadata": {},
   "outputs": [
    {
     "name": "stdout",
     "output_type": "stream",
     "text": [
      "La nota de Física es:  9\n"
     ]
    }
   ],
   "source": [
    "print(\"La nota de Física es: \",nota_fisica)"
   ]
  },
  {
   "cell_type": "code",
   "execution_count": 223,
   "id": "ee6d812e-db33-41bd-afa3-30fdc5de50ef",
   "metadata": {},
   "outputs": [
    {
     "data": {
      "text/plain": [
       "[9, 9, 8]"
      ]
     },
     "execution_count": 223,
     "metadata": {},
     "output_type": "execute_result"
    }
   ],
   "source": [
    "asignaturas = ['Matemática','Física','Historia']\n",
    "asignaturas\n",
    "notas =[9,9,8]\n",
    "notas"
   ]
  },
  {
   "cell_type": "code",
   "execution_count": 227,
   "id": "d02c7a0a-b997-4365-842e-786ae9dfb3dc",
   "metadata": {},
   "outputs": [
    {
     "data": {
      "text/plain": [
       "Matemática    9\n",
       "Física        9\n",
       "Historia      8\n",
       "dtype: int64"
      ]
     },
     "execution_count": 227,
     "metadata": {},
     "output_type": "execute_result"
    }
   ],
   "source": [
    "serie1 = pd.Series(data = notas,index=asignaturas)\n",
    "serie1"
   ]
  },
  {
   "cell_type": "code",
   "execution_count": 231,
   "id": "fc33b6a2-f84a-42bd-b678-29c7ffba0d31",
   "metadata": {},
   "outputs": [
    {
     "data": {
      "text/plain": [
       "9"
      ]
     },
     "execution_count": 231,
     "metadata": {},
     "output_type": "execute_result"
    }
   ],
   "source": [
    "nota_fisica = serie1['Física']\n",
    "nota_fisica"
   ]
  },
  {
   "cell_type": "code",
   "execution_count": 233,
   "id": "76165516-ef65-4bd2-a069-0d7ac22d5e41",
   "metadata": {},
   "outputs": [
    {
     "name": "stdout",
     "output_type": "stream",
     "text": [
      "La nota de Física es:  9\n"
     ]
    }
   ],
   "source": [
    "print(\"La nota de Física es: \",nota_fisica)"
   ]
  }
 ],
 "metadata": {
  "kernelspec": {
   "display_name": "Python 3 (ipykernel)",
   "language": "python",
   "name": "python3"
  },
  "language_info": {
   "codemirror_mode": {
    "name": "ipython",
    "version": 3
   },
   "file_extension": ".py",
   "mimetype": "text/x-python",
   "name": "python",
   "nbconvert_exporter": "python",
   "pygments_lexer": "ipython3",
   "version": "3.12.4"
  }
 },
 "nbformat": 4,
 "nbformat_minor": 5
}
