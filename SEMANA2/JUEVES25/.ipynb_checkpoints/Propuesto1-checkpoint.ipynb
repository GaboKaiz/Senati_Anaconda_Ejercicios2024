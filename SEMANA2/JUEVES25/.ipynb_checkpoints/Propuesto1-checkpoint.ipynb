{
 "cells": [
  {
   "cell_type": "code",
   "execution_count": 1,
   "id": "4dd54f9a-ff91-4c3c-be20-d9064ff3d4e8",
   "metadata": {},
   "outputs": [],
   "source": [
    "import numpy as np"
   ]
  },
  {
   "cell_type": "code",
   "execution_count": 138,
   "id": "07125ed3-aff5-4c77-b8cd-1cd206445e3b",
   "metadata": {},
   "outputs": [
    {
     "name": "stdout",
     "output_type": "stream",
     "text": [
      "[ 4 13 37 82 53 54 74 34 38 85 71 20 34 75 58 48  8 12 13 12 33 82]\n"
     ]
    }
   ],
   "source": [
    "def generar_numeros_enteros_aleatorios(N, minimo, maximo):\n",
    "    numeros_aleatorios = np.random.randint(minimo, maximo + 1, N)\n",
    "    return numeros_aleatorios\n",
    "\n",
    "N = 22\n",
    "minimo = 4\n",
    "maximo = 90\n",
    "adivina = generar_numeros_enteros_aleatorios(N, minimo, maximo)\n",
    "print(adivina)\n",
    "\n"
   ]
  }
 ],
 "metadata": {
  "kernelspec": {
   "display_name": "Python 3 (ipykernel)",
   "language": "python",
   "name": "python3"
  },
  "language_info": {
   "codemirror_mode": {
    "name": "ipython",
    "version": 3
   },
   "file_extension": ".py",
   "mimetype": "text/x-python",
   "name": "python",
   "nbconvert_exporter": "python",
   "pygments_lexer": "ipython3",
   "version": "3.12.4"
  }
 },
 "nbformat": 4,
 "nbformat_minor": 5
}
