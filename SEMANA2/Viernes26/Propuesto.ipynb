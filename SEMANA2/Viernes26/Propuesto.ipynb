{
 "cells": [
  {
   "cell_type": "code",
   "execution_count": 2,
   "id": "1444044e-91d1-40b8-a989-d2d13f603e7c",
   "metadata": {},
   "outputs": [],
   "source": [
    "import pandas as pd\n",
    "import numpy as np"
   ]
  },
  {
   "cell_type": "code",
   "execution_count": 168,
   "id": "cde981d5-1315-4c6e-b1cd-5c72b3aee15f",
   "metadata": {},
   "outputs": [
    {
     "name": "stdout",
     "output_type": "stream",
     "text": [
      "El promedio de la 1era lista es: 122    Y de la 2da lista es:  28\n"
     ]
    }
   ],
   "source": [
    "def calcular_promedio(lista,otra):\n",
    "    promedio1 = sum(lista)\n",
    "    promedio2 = sum(otra)\n",
    "    conteo1 = len(lista)\n",
    "    conteo2 = len(otra)\n",
    "\n",
    "    \n",
    "    prom1 = promedio1/conteo1\n",
    "    prom2 = promedio2/conteo2\n",
    "\n",
    "    redon1= round(prom1)\n",
    "    redon2= round(prom2)\n",
    "    print(\"El promedio de la 1era lista es:\",redon1,\"   Y de la 2da lista es: \",redon2)\n",
    "    \n",
    "\n",
    "    "
   ]
  },
  {
   "cell_type": "code",
   "execution_count": 176,
   "id": "f9e42477-08fe-46f5-8803-0f2370d1f88f",
   "metadata": {},
   "outputs": [
    {
     "data": {
      "text/html": [
       "<div>\n",
       "<style scoped>\n",
       "    .dataframe tbody tr th:only-of-type {\n",
       "        vertical-align: middle;\n",
       "    }\n",
       "\n",
       "    .dataframe tbody tr th {\n",
       "        vertical-align: top;\n",
       "    }\n",
       "\n",
       "    .dataframe thead th {\n",
       "        text-align: right;\n",
       "    }\n",
       "</style>\n",
       "<table border=\"1\" class=\"dataframe\">\n",
       "  <thead>\n",
       "    <tr style=\"text-align: right;\">\n",
       "      <th></th>\n",
       "      <th>0</th>\n",
       "    </tr>\n",
       "  </thead>\n",
       "  <tbody>\n",
       "    <tr>\n",
       "      <th>5</th>\n",
       "      <td>10</td>\n",
       "    </tr>\n",
       "    <tr>\n",
       "      <th>10</th>\n",
       "      <td>215</td>\n",
       "    </tr>\n",
       "    <tr>\n",
       "      <th>15</th>\n",
       "      <td>14</td>\n",
       "    </tr>\n",
       "    <tr>\n",
       "      <th>20</th>\n",
       "      <td>56</td>\n",
       "    </tr>\n",
       "    <tr>\n",
       "      <th>25</th>\n",
       "      <td>851</td>\n",
       "    </tr>\n",
       "    <tr>\n",
       "      <th>30</th>\n",
       "      <td>23</td>\n",
       "    </tr>\n",
       "    <tr>\n",
       "      <th>35</th>\n",
       "      <td>14</td>\n",
       "    </tr>\n",
       "    <tr>\n",
       "      <th>40</th>\n",
       "      <td>10</td>\n",
       "    </tr>\n",
       "    <tr>\n",
       "      <th>45</th>\n",
       "      <td>12</td>\n",
       "    </tr>\n",
       "    <tr>\n",
       "      <th>50</th>\n",
       "      <td>15</td>\n",
       "    </tr>\n",
       "  </tbody>\n",
       "</table>\n",
       "</div>"
      ],
      "text/plain": [
       "      0\n",
       "5    10\n",
       "10  215\n",
       "15   14\n",
       "20   56\n",
       "25  851\n",
       "30   23\n",
       "35   14\n",
       "40   10\n",
       "45   12\n",
       "50   15"
      ]
     },
     "execution_count": 176,
     "metadata": {},
     "output_type": "execute_result"
    }
   ],
   "source": [
    "listaki = [10,215,14,56,851,23,14,10,12,15]\n",
    "otraki = [5,10,15,20,25,30,35,40,45,50]\n",
    "pi=pd.DataFrame(listaki,otraki)\n",
    "pi"
   ]
  },
  {
   "cell_type": "code",
   "execution_count": 178,
   "id": "1292bccd-d53f-4216-95ea-a235ebb9a532",
   "metadata": {},
   "outputs": [
    {
     "name": "stdout",
     "output_type": "stream",
     "text": [
      "El promedio de la 1era lista es: 122    Y de la 2da lista es:  28\n"
     ]
    }
   ],
   "source": [
    "\n",
    "calcular_promedio(listaki,otraki)\n"
   ]
  }
 ],
 "metadata": {
  "kernelspec": {
   "display_name": "Python 3 (ipykernel)",
   "language": "python",
   "name": "python3"
  },
  "language_info": {
   "codemirror_mode": {
    "name": "ipython",
    "version": 3
   },
   "file_extension": ".py",
   "mimetype": "text/x-python",
   "name": "python",
   "nbconvert_exporter": "python",
   "pygments_lexer": "ipython3",
   "version": "3.12.4"
  }
 },
 "nbformat": 4,
 "nbformat_minor": 5
}
