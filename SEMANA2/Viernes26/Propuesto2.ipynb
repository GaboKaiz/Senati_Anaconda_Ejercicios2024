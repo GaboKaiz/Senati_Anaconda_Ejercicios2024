{
 "cells": [
  {
   "cell_type": "code",
   "execution_count": 179,
   "id": "dc36d960-502c-4890-875f-e2cda3b9ff4b",
   "metadata": {},
   "outputs": [],
   "source": [
    "import pandas as pd\n",
    "import numpy as np"
   ]
  },
  {
   "cell_type": "code",
   "execution_count": 79,
   "id": "85a1a67c-deda-4487-bd83-3309c17dafea",
   "metadata": {},
   "outputs": [
    {
     "data": {
      "text/plain": [
       "(246, 366, 326)"
      ]
     },
     "execution_count": 79,
     "metadata": {},
     "output_type": "execute_result"
    }
   ],
   "source": [
    "#Enero\n",
    "v1 = np.random.randint(100,500)\n",
    "v1\n",
    "v2 = np.random.randint(100,500)\n",
    "v2\n",
    "v3 = np.random.randint(100,500)\n",
    "Ventas_Enero = v1,v2,v3\n",
    "Ventas_Enero"
   ]
  },
  {
   "cell_type": "code",
   "execution_count": 81,
   "id": "40b405f2-ed45-4f8a-9b37-a81e41bb0ccf",
   "metadata": {},
   "outputs": [
    {
     "data": {
      "text/plain": [
       "(290, 210, 400)"
      ]
     },
     "execution_count": 81,
     "metadata": {},
     "output_type": "execute_result"
    }
   ],
   "source": [
    "#Febrero\n",
    "v1 = np.random.randint(100,500)\n",
    "v1\n",
    "v2 = np.random.randint(100,500)\n",
    "v2\n",
    "v3 = np.random.randint(100,500)\n",
    "Ventas_Febrero = v1,v2,v3\n",
    "Ventas_Febrero\n"
   ]
  },
  {
   "cell_type": "code",
   "execution_count": 105,
   "id": "62d51ca2-09a7-4e40-99cc-79dbb7409ea3",
   "metadata": {},
   "outputs": [
    {
     "data": {
      "text/plain": [
       "['Ventas_Enero', 'Ventas_Febrero', 'Ventas_Marzo']"
      ]
     },
     "execution_count": 105,
     "metadata": {},
     "output_type": "execute_result"
    }
   ],
   "source": [
    "#Marzo\n",
    "VM1 = np.random.randint(100,500)\n",
    "VM1\n",
    "VM2 = np.random.randint(100,500)\n",
    "VM2\n",
    "VM3 = np.random.randint(100,500)\n",
    "VM3\n",
    "VENTAS_M = VM1,VM2,VM3\n",
    "VENTAS_M\n",
    "\n",
    "Ventas_Marzo= ['Ventas_Enero','Ventas_Febrero','Ventas_Marzo']\n",
    "Ventas_Marzo"
   ]
  },
  {
   "cell_type": "code",
   "execution_count": 85,
   "id": "14eab1ee-309f-4ed2-9658-02dccd4648ab",
   "metadata": {},
   "outputs": [
    {
     "data": {
      "text/html": [
       "<div>\n",
       "<style scoped>\n",
       "    .dataframe tbody tr th:only-of-type {\n",
       "        vertical-align: middle;\n",
       "    }\n",
       "\n",
       "    .dataframe tbody tr th {\n",
       "        vertical-align: top;\n",
       "    }\n",
       "\n",
       "    .dataframe thead th {\n",
       "        text-align: right;\n",
       "    }\n",
       "</style>\n",
       "<table border=\"1\" class=\"dataframe\">\n",
       "  <thead>\n",
       "    <tr style=\"text-align: right;\">\n",
       "      <th></th>\n",
       "      <th>0</th>\n",
       "    </tr>\n",
       "  </thead>\n",
       "  <tbody>\n",
       "    <tr>\n",
       "      <th>0</th>\n",
       "      <td>Oficina_1</td>\n",
       "    </tr>\n",
       "    <tr>\n",
       "      <th>1</th>\n",
       "      <td>Oficina_2</td>\n",
       "    </tr>\n",
       "    <tr>\n",
       "      <th>2</th>\n",
       "      <td>Oficina_3</td>\n",
       "    </tr>\n",
       "  </tbody>\n",
       "</table>\n",
       "</div>"
      ],
      "text/plain": [
       "           0\n",
       "0  Oficina_1\n",
       "1  Oficina_2\n",
       "2  Oficina_3"
      ]
     },
     "execution_count": 85,
     "metadata": {},
     "output_type": "execute_result"
    }
   ],
   "source": [
    "#Variable filas\n",
    "filas = ['Oficina_1','Oficina_2','Oficina_3']\n",
    "filas\n",
    "pd.DataFrame(filas)"
   ]
  },
  {
   "cell_type": "code",
   "execution_count": 233,
   "id": "c4e10cd9-dd01-47e3-88fa-ec0b1ab7ddf8",
   "metadata": {},
   "outputs": [
    {
     "data": {
      "text/html": [
       "<div>\n",
       "<style scoped>\n",
       "    .dataframe tbody tr th:only-of-type {\n",
       "        vertical-align: middle;\n",
       "    }\n",
       "\n",
       "    .dataframe tbody tr th {\n",
       "        vertical-align: top;\n",
       "    }\n",
       "\n",
       "    .dataframe thead th {\n",
       "        text-align: right;\n",
       "    }\n",
       "</style>\n",
       "<table border=\"1\" class=\"dataframe\">\n",
       "  <thead>\n",
       "    <tr style=\"text-align: right;\">\n",
       "      <th></th>\n",
       "      <th>0</th>\n",
       "      <th>1</th>\n",
       "      <th>2</th>\n",
       "    </tr>\n",
       "  </thead>\n",
       "  <tbody>\n",
       "    <tr>\n",
       "      <th>0</th>\n",
       "      <td>Ventas_Enero</td>\n",
       "      <td>Ventas_Febrero</td>\n",
       "      <td>Ventas_Marzo</td>\n",
       "    </tr>\n",
       "    <tr>\n",
       "      <th>1</th>\n",
       "      <td>246</td>\n",
       "      <td>366</td>\n",
       "      <td>326</td>\n",
       "    </tr>\n",
       "    <tr>\n",
       "      <th>2</th>\n",
       "      <td>290</td>\n",
       "      <td>210</td>\n",
       "      <td>400</td>\n",
       "    </tr>\n",
       "    <tr>\n",
       "      <th>3</th>\n",
       "      <td>378</td>\n",
       "      <td>355</td>\n",
       "      <td>429</td>\n",
       "    </tr>\n",
       "  </tbody>\n",
       "</table>\n",
       "</div>"
      ],
      "text/plain": [
       "              0               1             2\n",
       "0  Ventas_Enero  Ventas_Febrero  Ventas_Marzo\n",
       "1           246             366           326\n",
       "2           290             210           400\n",
       "3           378             355           429"
      ]
     },
     "execution_count": 233,
     "metadata": {},
     "output_type": "execute_result"
    }
   ],
   "source": [
    "#Variable ventas\n",
    "\n",
    "\n",
    "\n",
    "etiqueta = [filas]\n",
    "ventas = (Ventas_Marzo),(Ventas_Enero),(Ventas_Febrero),(VENTAS_M)\n",
    "ventas\n",
    "pd.DataFrame(ventas)\n"
   ]
  },
  {
   "cell_type": "code",
   "execution_count": null,
   "id": "c9d4c464-8d94-4aff-8951-c9ed6766afa2",
   "metadata": {},
   "outputs": [],
   "source": [
    "#Variable dataframe\n",
    "dataframe = ['Oficina_1','Oficina_2','Oficina_3']\n",
    "dataframe"
   ]
  },
  {
   "cell_type": "code",
   "execution_count": 43,
   "id": "d945d623-cc24-42c3-a188-20498facb821",
   "metadata": {},
   "outputs": [
    {
     "name": "stdout",
     "output_type": "stream",
     "text": [
      "Las Ventas de Enero para la oficina 1 son de:  (488, 296, 313)\n"
     ]
    }
   ],
   "source": [
    "print(\"Las Ventas de Enero para la oficina 1 son de: \",Ventas_Enero)"
   ]
  }
 ],
 "metadata": {
  "kernelspec": {
   "display_name": "Python 3 (ipykernel)",
   "language": "python",
   "name": "python3"
  },
  "language_info": {
   "codemirror_mode": {
    "name": "ipython",
    "version": 3
   },
   "file_extension": ".py",
   "mimetype": "text/x-python",
   "name": "python",
   "nbconvert_exporter": "python",
   "pygments_lexer": "ipython3",
   "version": "3.12.4"
  }
 },
 "nbformat": 4,
 "nbformat_minor": 5
}
