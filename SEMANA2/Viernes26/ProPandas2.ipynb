{
 "cells": [
  {
   "cell_type": "code",
   "execution_count": 44,
   "id": "c408e1cb-60b9-4a22-aea2-705861863189",
   "metadata": {},
   "outputs": [],
   "source": [
    "import pandas as pd"
   ]
  },
  {
   "cell_type": "code",
   "execution_count": 40,
   "id": "f524efd6-0b17-43e4-9876-d48bd5868397",
   "metadata": {},
   "outputs": [
    {
     "name": "stdout",
     "output_type": "stream",
     "text": [
      "Archivo 'IanGabriel.csv' creado exitosamente.\n"
     ]
    }
   ],
   "source": [
    "import csv\n",
    "\n",
    "# Datos de ejemplo\n",
    "datos = [\n",
    "    [\"Tocache\", 35, 10],\n",
    "    [\"Lima\", 18, 30],\n",
    "    [\"Trujillo\", 35, 40],\n",
    "    [\"Tingo Maria\", 35, 50],\n",
    "    [\"Iquitos\", 35, 60],\n",
    "    [\"Tarapoto\", 28, 70],\n",
    "    [\"Lamas\", 20, 80],\n",
    "    [\"Pucallpa\", 35, 90],\n",
    "    [\"Moyobamba\", 24, 100],\n",
    "]\n",
    "\n",
    "# Nombre del archivo CSV\n",
    "nombre_archivo = \"IanGabriel.csv\"\n",
    "\n",
    "# Escribir los datos en el archivo CSV\n",
    "with open(nombre_archivo, mode=\"w\", newline=\"\") as archivo_csv:\n",
    "    writer = csv.writer(archivo_csv)\n",
    "    writer.writerow([\"Ciudades\", \"Temperaturas\", \"Precipitaciones\"])  # Encabezados\n",
    "    writer.writerows(datos)  # Filas de datos\n",
    "\n",
    "print(f\"Archivo '{nombre_archivo}' creado exitosamente.\")\n"
   ]
  },
  {
   "cell_type": "code",
   "execution_count": 42,
   "id": "233f898a-e9d0-4453-b3e7-5cd6e3f12ef2",
   "metadata": {},
   "outputs": [
    {
     "data": {
      "text/html": [
       "<div>\n",
       "<style scoped>\n",
       "    .dataframe tbody tr th:only-of-type {\n",
       "        vertical-align: middle;\n",
       "    }\n",
       "\n",
       "    .dataframe tbody tr th {\n",
       "        vertical-align: top;\n",
       "    }\n",
       "\n",
       "    .dataframe thead th {\n",
       "        text-align: right;\n",
       "    }\n",
       "</style>\n",
       "<table border=\"1\" class=\"dataframe\">\n",
       "  <thead>\n",
       "    <tr style=\"text-align: right;\">\n",
       "      <th></th>\n",
       "      <th>Ciudades</th>\n",
       "      <th>Temperaturas</th>\n",
       "      <th>Precipitaciones</th>\n",
       "    </tr>\n",
       "  </thead>\n",
       "  <tbody>\n",
       "    <tr>\n",
       "      <th>0</th>\n",
       "      <td>Tocache</td>\n",
       "      <td>35</td>\n",
       "      <td>10</td>\n",
       "    </tr>\n",
       "    <tr>\n",
       "      <th>1</th>\n",
       "      <td>Lima</td>\n",
       "      <td>18</td>\n",
       "      <td>30</td>\n",
       "    </tr>\n",
       "    <tr>\n",
       "      <th>2</th>\n",
       "      <td>Trujillo</td>\n",
       "      <td>35</td>\n",
       "      <td>40</td>\n",
       "    </tr>\n",
       "    <tr>\n",
       "      <th>3</th>\n",
       "      <td>Tingo Maria</td>\n",
       "      <td>35</td>\n",
       "      <td>50</td>\n",
       "    </tr>\n",
       "    <tr>\n",
       "      <th>4</th>\n",
       "      <td>Iquitos</td>\n",
       "      <td>35</td>\n",
       "      <td>60</td>\n",
       "    </tr>\n",
       "    <tr>\n",
       "      <th>5</th>\n",
       "      <td>Tarapoto</td>\n",
       "      <td>28</td>\n",
       "      <td>70</td>\n",
       "    </tr>\n",
       "    <tr>\n",
       "      <th>6</th>\n",
       "      <td>Lamas</td>\n",
       "      <td>20</td>\n",
       "      <td>80</td>\n",
       "    </tr>\n",
       "    <tr>\n",
       "      <th>7</th>\n",
       "      <td>Pucallpa</td>\n",
       "      <td>35</td>\n",
       "      <td>90</td>\n",
       "    </tr>\n",
       "    <tr>\n",
       "      <th>8</th>\n",
       "      <td>Moyobamba</td>\n",
       "      <td>24</td>\n",
       "      <td>100</td>\n",
       "    </tr>\n",
       "  </tbody>\n",
       "</table>\n",
       "</div>"
      ],
      "text/plain": [
       "      Ciudades  Temperaturas  Precipitaciones\n",
       "0      Tocache            35               10\n",
       "1         Lima            18               30\n",
       "2     Trujillo            35               40\n",
       "3  Tingo Maria            35               50\n",
       "4      Iquitos            35               60\n",
       "5     Tarapoto            28               70\n",
       "6        Lamas            20               80\n",
       "7     Pucallpa            35               90\n",
       "8    Moyobamba            24              100"
      ]
     },
     "execution_count": 42,
     "metadata": {},
     "output_type": "execute_result"
    }
   ],
   "source": [
    "datos_clima = pd.read_csv(\"IanGabriel.csv\")\n",
    "datos_clima"
   ]
  }
 ],
 "metadata": {
  "kernelspec": {
   "display_name": "Python 3 (ipykernel)",
   "language": "python",
   "name": "python3"
  },
  "language_info": {
   "codemirror_mode": {
    "name": "ipython",
    "version": 3
   },
   "file_extension": ".py",
   "mimetype": "text/x-python",
   "name": "python",
   "nbconvert_exporter": "python",
   "pygments_lexer": "ipython3",
   "version": "3.12.4"
  }
 },
 "nbformat": 4,
 "nbformat_minor": 5
}
