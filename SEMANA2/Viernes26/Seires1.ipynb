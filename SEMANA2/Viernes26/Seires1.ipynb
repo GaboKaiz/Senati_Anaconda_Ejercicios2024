{
 "cells": [
  {
   "cell_type": "code",
   "execution_count": 1,
   "id": "8e31e557-ad59-4bb2-8418-3e2770969f9e",
   "metadata": {},
   "outputs": [],
   "source": [
    "import pandas as pd"
   ]
  },
  {
   "cell_type": "code",
   "execution_count": 31,
   "id": "7e6442b7-005d-4aea-a4ea-c3bc06439a95",
   "metadata": {},
   "outputs": [
    {
     "data": {
      "text/plain": [
       "0        Tocache\n",
       "1           Lima\n",
       "2        Huánuco\n",
       "3       Trujillo\n",
       "4    Tingo María\n",
       "5        Iquitos\n",
       "dtype: object"
      ]
     },
     "execution_count": 31,
     "metadata": {},
     "output_type": "execute_result"
    }
   ],
   "source": [
    "texto = ['Tocache','Lima','Huánuco','Trujillo','Tingo María','Iquitos']\n",
    "serie1 = pd.Series(texto)\n",
    "serie1"
   ]
  },
  {
   "cell_type": "code",
   "execution_count": 35,
   "id": "b596d3fb-fd95-4672-b5dd-c9379b8ef430",
   "metadata": {},
   "outputs": [
    {
     "data": {
      "text/plain": [
       "a        Tocache\n",
       "b           Lima\n",
       "c        Huánuco\n",
       "d       Trujillo\n",
       "e    Tingo María\n",
       "f        Iquitos\n",
       "dtype: object"
      ]
     },
     "execution_count": 35,
     "metadata": {},
     "output_type": "execute_result"
    }
   ],
   "source": [
    "fila = ['a','b','c','d','e','f']\n",
    "fila\n",
    "serie1 = pd.Series(texto,fila)\n",
    "serie1"
   ]
  },
  {
   "cell_type": "code",
   "execution_count": null,
   "id": "67e592b0-a32c-4b42-bfeb-b190a731cfae",
   "metadata": {},
   "outputs": [],
   "source": [
    "\n"
   ]
  }
 ],
 "metadata": {
  "kernelspec": {
   "display_name": "Python 3 (ipykernel)",
   "language": "python",
   "name": "python3"
  },
  "language_info": {
   "codemirror_mode": {
    "name": "ipython",
    "version": 3
   },
   "file_extension": ".py",
   "mimetype": "text/x-python",
   "name": "python",
   "nbconvert_exporter": "python",
   "pygments_lexer": "ipython3",
   "version": "3.12.4"
  }
 },
 "nbformat": 4,
 "nbformat_minor": 5
}
