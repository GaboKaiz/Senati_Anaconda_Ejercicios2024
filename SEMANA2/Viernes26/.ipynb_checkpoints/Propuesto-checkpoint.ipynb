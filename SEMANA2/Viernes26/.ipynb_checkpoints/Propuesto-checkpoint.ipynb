{
 "cells": [
  {
   "cell_type": "code",
   "execution_count": 2,
   "id": "1444044e-91d1-40b8-a989-d2d13f603e7c",
   "metadata": {},
   "outputs": [],
   "source": [
    "import pandas as pd\n",
    "import numpy as np"
   ]
  },
  {
   "cell_type": "code",
   "execution_count": 114,
   "id": "cde981d5-1315-4c6e-b1cd-5c72b3aee15f",
   "metadata": {},
   "outputs": [
    {
     "ename": "NameError",
     "evalue": "name 'count' is not defined",
     "output_type": "error",
     "traceback": [
      "\u001b[1;31m---------------------------------------------------------------------------\u001b[0m",
      "\u001b[1;31mNameError\u001b[0m                                 Traceback (most recent call last)",
      "Cell \u001b[1;32mIn[114], line 10\u001b[0m\n\u001b[0;32m      6\u001b[0m     count(lista)\n\u001b[0;32m      7\u001b[0m     count(otra)\n\u001b[1;32m---> 10\u001b[0m resultado \u001b[38;5;241m=\u001b[39m \u001b[43mcalcular_promedio\u001b[49m\u001b[43m(\u001b[49m\u001b[43mpromedio1\u001b[49m\u001b[43m,\u001b[49m\u001b[43mpromedio2\u001b[49m\u001b[43m)\u001b[49m\n\u001b[0;32m     11\u001b[0m \u001b[38;5;28mprint\u001b[39m(\u001b[38;5;124m\"\u001b[39m\u001b[38;5;124mEl promedio de la 1era lista es:\u001b[39m\u001b[38;5;124m\"\u001b[39m,promedio1,\u001b[38;5;124m\"\u001b[39m\u001b[38;5;124m   Y de la 2da lista es: \u001b[39m\u001b[38;5;124m\"\u001b[39m,promedio2)\n",
      "Cell \u001b[1;32mIn[114], line 6\u001b[0m, in \u001b[0;36mcalcular_promedio\u001b[1;34m(lista, otra)\u001b[0m\n\u001b[0;32m      4\u001b[0m promedio1 \u001b[38;5;241m=\u001b[39m \u001b[38;5;28msum\u001b[39m(lista)\n\u001b[0;32m      5\u001b[0m promedio2 \u001b[38;5;241m=\u001b[39m \u001b[38;5;28msum\u001b[39m(otra)\n\u001b[1;32m----> 6\u001b[0m \u001b[43mcount\u001b[49m(lista)\n\u001b[0;32m      7\u001b[0m count(otra)\n",
      "\u001b[1;31mNameError\u001b[0m: name 'count' is not defined"
     ]
    }
   ],
   "source": [
    "def calcular_promedio(lista,otra):\n",
    "    lista = [1,2,3,4,5,6,7,8,9,10]\n",
    "    otra = [5,10,15,20,25,30,35,40,45,50]\n",
    "    promedio1 = sum(lista)\n",
    "    promedio2 = sum(otra)\n",
    "    conteo1 =count(lista)\n",
    "    conteo2 = count(otra)\n",
    "\n",
    "\n",
    "resultado = calcular_promedio(promedio1,promedio2)\n",
    "print(\"El promedio de la 1era lista es:\",promedio1,\"   Y de la 2da lista es: \",promedio2)\n",
    "\n",
    "    "
   ]
  }
 ],
 "metadata": {
  "kernelspec": {
   "display_name": "Python 3 (ipykernel)",
   "language": "python",
   "name": "python3"
  },
  "language_info": {
   "codemirror_mode": {
    "name": "ipython",
    "version": 3
   },
   "file_extension": ".py",
   "mimetype": "text/x-python",
   "name": "python",
   "nbconvert_exporter": "python",
   "pygments_lexer": "ipython3",
   "version": "3.12.4"
  }
 },
 "nbformat": 4,
 "nbformat_minor": 5
}
